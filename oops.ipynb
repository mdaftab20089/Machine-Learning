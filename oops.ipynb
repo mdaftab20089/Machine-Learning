{
 "cells": [
  {
   "cell_type": "markdown",
   "metadata": {},
   "source": [
    "## OOP (Object Oriented Programming) \n",
    "# class and Object (Constructor)"
   ]
  },
  {
   "cell_type": "code",
   "execution_count": 2,
   "metadata": {},
   "outputs": [],
   "source": [
    "class A:\n",
    "    pass\n",
    "\n",
    "a=A()\n",
    "type(a)\n",
    "a.name='aftab'"
   ]
  },
  {
   "cell_type": "code",
   "execution_count": 3,
   "metadata": {},
   "outputs": [
    {
     "name": "stdout",
     "output_type": "stream",
     "text": [
      "aftab\n"
     ]
    }
   ],
   "source": [
    "print(a.name)"
   ]
  },
  {
   "cell_type": "code",
   "execution_count": 5,
   "metadata": {},
   "outputs": [
    {
     "name": "stdout",
     "output_type": "stream",
     "text": [
      "audi\n",
      "20000\n"
     ]
    }
   ],
   "source": [
    "## Constructor\n",
    "class Car:\n",
    "    def __init__(self,name,price) :\n",
    "                 self.name=name\n",
    "                 self.price=price\n",
    "\n",
    "\n",
    "audi=Car(\"audi\",20000)\n",
    "print(audi.name)\n",
    "print(audi.price)\n"
   ]
  },
  {
   "cell_type": "code",
   "execution_count": 6,
   "metadata": {},
   "outputs": [
    {
     "name": "stdout",
     "output_type": "stream",
     "text": [
      "sourav says woof\n",
      "sumo says woof\n"
     ]
    }
   ],
   "source": [
    "class Dog:\n",
    "    def __init__(self,name,age) :\n",
    "        self.name=name\n",
    "        self.age=age\n",
    "\n",
    "\n",
    "    def bark(self):\n",
    "        print(f\"{self.name} says woof\")\n",
    "\n",
    "dog1=Dog(\"sourav\",21)\n",
    "dog2=Dog(\"sumo\",32)\n",
    "dog1.bark()\n",
    "dog2.bark()\n",
    "\n"
   ]
  },
  {
   "cell_type": "code",
   "execution_count": 7,
   "metadata": {},
   "outputs": [],
   "source": [
    "##Creating a Banking system\n",
    "class Account_management:\n",
    "    def __init__(self,owner,balance=0) :\n",
    "            self.balance=balance\n",
    "            self.owner=owner\n",
    "\n",
    "    def  Credit(self,amount):\n",
    "        self.balance +=amount\n",
    "        print(f\"{amount} is deposited. New balance is {self.balance}\")\n",
    "\n",
    "    def WithDraw(self,amount):\n",
    "         if(amount>self.balance):\n",
    "              print(\"balance is not sufficient\")\n",
    "         else :\n",
    "              self.balance-=amount\n",
    "              print(f\"amount credited successfully, current balance is {self.balance}\")\n",
    "\n",
    "\n",
    "account=Account_management(\"aftab\",5000)              \n",
    "\n",
    "\n",
    "              \n",
    "\n",
    "            "
   ]
  },
  {
   "cell_type": "code",
   "execution_count": 8,
   "metadata": {},
   "outputs": [
    {
     "name": "stdout",
     "output_type": "stream",
     "text": [
      "5000\n"
     ]
    }
   ],
   "source": [
    "print(account.balance)"
   ]
  },
  {
   "cell_type": "code",
   "execution_count": 9,
   "metadata": {},
   "outputs": [
    {
     "name": "stdout",
     "output_type": "stream",
     "text": [
      "amount credited successfully, current balance is 3000\n"
     ]
    }
   ],
   "source": [
    "account.WithDraw(2000)"
   ]
  },
  {
   "cell_type": "code",
   "execution_count": 10,
   "metadata": {},
   "outputs": [
    {
     "name": "stdout",
     "output_type": "stream",
     "text": [
      "5000 is deposited. New balance is 8000\n"
     ]
    }
   ],
   "source": [
    "account.Credit(5000)"
   ]
  },
  {
   "cell_type": "markdown",
   "metadata": {},
   "source": [
    "## Inheritance"
   ]
  },
  {
   "cell_type": "code",
   "execution_count": 12,
   "metadata": {},
   "outputs": [],
   "source": [
    "class Car:\n",
    "    def __init__(self,window,enginetype,wheel) :\n",
    "        self.window=window\n",
    "        self.enginetype=enginetype\n",
    "        self.wheel=wheel\n",
    "\n",
    "    def drive(self):\n",
    "        print(f\"The person will drive the {self.enginetype} car \") \n"
   ]
  },
  {
   "cell_type": "code",
   "execution_count": 13,
   "metadata": {},
   "outputs": [
    {
     "name": "stdout",
     "output_type": "stream",
     "text": [
      "The person will drive the petrol car \n"
     ]
    }
   ],
   "source": [
    "audi=Car(4,\"petrol\",8)\n",
    "audi.drive()"
   ]
  },
  {
   "cell_type": "code",
   "execution_count": 18,
   "metadata": {},
   "outputs": [
    {
     "name": "stdout",
     "output_type": "stream",
     "text": [
      "Tesla supports self driving : True\n"
     ]
    }
   ],
   "source": [
    "class Tesla(Car):\n",
    "    def __init__(self,window,enginetype,wheel,is_selfdriving) :\n",
    "        super().__init__(window,enginetype,wheel) \n",
    "        self.is_selfdriving=is_selfdriving\n",
    "\n",
    "    def self_driving(self):\n",
    "            print(f\"Tesla supports self driving : {self.is_selfdriving}\")\n",
    "\n",
    "tesla1=Tesla(4,\"electric\",6,True)\n",
    "tesla1.self_driving()\n",
    "                 "
   ]
  },
  {
   "cell_type": "code",
   "execution_count": 19,
   "metadata": {},
   "outputs": [
    {
     "name": "stdout",
     "output_type": "stream",
     "text": [
      "father of the family is shabbir\n",
      "Mother of the family is rashida\n"
     ]
    }
   ],
   "source": [
    "## more Examples\n",
    "\n",
    "class Family:\n",
    "    def __init__(self,Father,Mother) :\n",
    "        self.Father=Father\n",
    "        self.Mother=Mother\n",
    "\n",
    "\n",
    "    def Parents(self):\n",
    "        print(f\"father of the family is {self.Father}\")  \n",
    "        print(f\"Mother of the family is {self.Mother}\")  \n",
    "\n",
    "family=Family(\"shabbir\",\"rashida\")\n",
    "family.Parents()       \n",
    "\n",
    "        "
   ]
  },
  {
   "cell_type": "code",
   "execution_count": 20,
   "metadata": {},
   "outputs": [
    {
     "name": "stdout",
     "output_type": "stream",
     "text": [
      "child name is c\n"
     ]
    }
   ],
   "source": [
    "class Childs(Family):\n",
    "    def __init__(self, Father, Mother,childs):\n",
    "        super().__init__(Father, Mother)\n",
    "        self.childs=childs\n",
    "\n",
    "\n",
    "    def Child_Name(self):\n",
    "        print(f\"child name is {self.childs}\")    \n",
    "\n",
    "child=Childs(\"a\",\"b\",\"c\")  \n",
    "child.Child_Name()      \n"
   ]
  },
  {
   "cell_type": "code",
   "execution_count": 21,
   "metadata": {},
   "outputs": [
    {
     "name": "stdout",
     "output_type": "stream",
     "text": [
      "Buddy say woof\n",
      "Owner:Krish\n"
     ]
    }
   ],
   "source": [
    "### Multiple Inheritance\n",
    "## When a class inherits from more than one base class.\n",
    "## Base class 1\n",
    "class Animal:\n",
    "    def __init__(self,name):\n",
    "        self.name=name\n",
    "\n",
    "    def speak(self):\n",
    "        print(\"Subclass must implement this method\")\n",
    "\n",
    "## BAse class 2\n",
    "class Pet:\n",
    "    def __init__(self, owner):\n",
    "        self.owner = owner\n",
    "\n",
    "\n",
    "##Derived class\n",
    "class Dog(Animal,Pet):\n",
    "    def __init__(self,name,owner):\n",
    "        Animal.__init__(self,name)\n",
    "        Pet.__init__(self,owner)\n",
    "\n",
    "    def speak(self):\n",
    "        return f\"{self.name} say woof\"\n",
    "    \n",
    "\n",
    "## Create an object\n",
    "dog=Dog(\"Buddy\",\"Krish\")\n",
    "print(dog.speak())\n",
    "print(f\"Owner:{dog.owner}\")\n"
   ]
  },
  {
   "cell_type": "code",
   "execution_count": 26,
   "metadata": {},
   "outputs": [],
   "source": [
    "class A:\n",
    "    def __init__(self,a,b) :\n",
    "        self.a=a\n",
    "        self.b=b\n",
    "\n",
    "    def fun1(self):\n",
    "        print(f\"in A class a is {self.a} and b is {self.b}\") \n",
    "\n",
    "\n",
    "class B:\n",
    "    def __init__(self,c,d) :\n",
    "        self.c=c\n",
    "        self.d=d\n",
    "\n",
    "    def fun1(self):\n",
    "        print(f\"in B class c is {self.c} and d is {self.d}\")   "
   ]
  },
  {
   "cell_type": "code",
   "execution_count": 27,
   "metadata": {},
   "outputs": [
    {
     "name": "stdout",
     "output_type": "stream",
     "text": [
      "in A class a is 1 and b is 3\n"
     ]
    }
   ],
   "source": [
    "var1=A(1,3)\n",
    "var1.fun1()"
   ]
  },
  {
   "cell_type": "code",
   "execution_count": 31,
   "metadata": {},
   "outputs": [
    {
     "name": "stdout",
     "output_type": "stream",
     "text": [
      "in class C e is 6\n"
     ]
    }
   ],
   "source": [
    "class C(A,B):\n",
    "    def __init__(self, a, b,c,d,e):\n",
    "        A.__init__(self,a,b)\n",
    "        B.__init__(self,c,d)\n",
    "        self.e=e\n",
    "\n",
    "    def fun3(self):\n",
    "        print(f\"in class C e is {self.e}\")\n",
    "\n",
    "var2=C(2,3,4,5,6)\n",
    "var2.fun3()            "
   ]
  },
  {
   "cell_type": "markdown",
   "metadata": {},
   "source": [
    "## Polymorphism in Python"
   ]
  },
  {
   "cell_type": "markdown",
   "metadata": {},
   "source": [
    "###  Method Overriding\n",
    "Method overriding allows a child class to provide a specific implementation of a method that is already defined in its parent class."
   ]
  },
  {
   "cell_type": "code",
   "execution_count": 34,
   "metadata": {},
   "outputs": [],
   "source": [
    "## polymorphism with method overriding\n",
    "class Animal:\n",
    "    def speak(self):\n",
    "        return \"animal can speak\"\n",
    "    \n",
    "class Dog(Animal):\n",
    "    def speak(self):\n",
    "        return \"dogs sounds woof\" \n",
    "    \n",
    "class Cat(Animal):\n",
    "    def speak(self):\n",
    "        return \"cats sounds meon\"      \n"
   ]
  },
  {
   "cell_type": "code",
   "execution_count": 39,
   "metadata": {},
   "outputs": [
    {
     "name": "stdout",
     "output_type": "stream",
     "text": [
      "dogs sounds woof\n",
      "cats sounds meon\n"
     ]
    }
   ],
   "source": [
    "dog=Dog()\n",
    "dog.speak()\n",
    "cat=Cat()\n",
    "print(dog.speak())\n",
    "print(cat.speak())"
   ]
  },
  {
   "cell_type": "code",
   "execution_count": 40,
   "metadata": {},
   "outputs": [
    {
     "name": "stdout",
     "output_type": "stream",
     "text": [
      "the area is 20\n",
      "the area is 28.259999999999998\n"
     ]
    }
   ],
   "source": [
    "### Polymorphissm with Functions and MEthods\n",
    "## base class\n",
    "class Shape:\n",
    "    def area(self):\n",
    "        return \"The area of the figure\"\n",
    "    \n",
    "## Derived class 1\n",
    "class Rectangle(Shape):\n",
    "    def __init__(self,width,height):\n",
    "        self.width=width\n",
    "        self.height=height\n",
    "\n",
    "    def area(self):\n",
    "        return self.width * self.height\n",
    "    \n",
    "##DErived class 2\n",
    "\n",
    "class Circle(Shape):\n",
    "    def __init__(self,radius):\n",
    "        self.radius=radius\n",
    "\n",
    "    def area(self):\n",
    "        return 3.14*self.radius *self.radius\n",
    "    \n",
    "## Fucntion that demonstrates polymorphism\n",
    "\n",
    "def print_area(shape):\n",
    "    print(f\"the area is {shape.area()}\")\n",
    "\n",
    "\n",
    "rectangle=Rectangle(4,5)\n",
    "circle=Circle(3)\n",
    "\n",
    "print_area(rectangle)\n",
    "print_area(circle)"
   ]
  },
  {
   "cell_type": "markdown",
   "metadata": {},
   "source": [
    "## Polymorphism with abstract base classes"
   ]
  },
  {
   "cell_type": "code",
   "execution_count": 41,
   "metadata": {},
   "outputs": [
    {
     "name": "stdout",
     "output_type": "stream",
     "text": [
      "MotorCycle started\n",
      "Car started\n"
     ]
    }
   ],
   "source": [
    "from abc import ABC,abstractmethod\n",
    "\n",
    "class Vehicle:\n",
    "    @abstractmethod\n",
    "    def engine_start(self):\n",
    "        return \"engine started\"\n",
    "    \n",
    "class MotorCycle(Vehicle):\n",
    "    def engine_start(self):\n",
    "        return \"MotorCycle started\"   \n",
    "    \n",
    "class Car(Vehicle):\n",
    "    def engine_start(self):\n",
    "        return \"Car started\"  \n",
    "\n",
    "motorcycle=MotorCycle()\n",
    "car=Car()\n",
    "print(motorcycle.engine_start())\n",
    "print(car.engine_start())     "
   ]
  },
  {
   "cell_type": "markdown",
   "metadata": {},
   "source": [
    "## Encapsulation is Python"
   ]
  },
  {
   "cell_type": "code",
   "execution_count": 47,
   "metadata": {},
   "outputs": [
    {
     "name": "stdout",
     "output_type": "stream",
     "text": [
      "3\n"
     ]
    }
   ],
   "source": [
    "class A:\n",
    "    def __init__(self,a,b) :\n",
    "        self.a=a ## public variable\n",
    "        self.__b=b ## private variable\n",
    "\n",
    "x=A(2,3)\n",
    "print(x._A__b)\n",
    "\n"
   ]
  },
  {
   "cell_type": "code",
   "execution_count": 54,
   "metadata": {},
   "outputs": [
    {
     "name": "stdout",
     "output_type": "stream",
     "text": [
      "aftab\n",
      "23\n"
     ]
    }
   ],
   "source": [
    "class Person:\n",
    "    def __init__(self,name,age,gender) :\n",
    "        self.name=name\n",
    "        self._age=age\n",
    "        self.__gender=gender\n",
    "\n",
    "\n",
    "class Human(Person):\n",
    "    def __init__(self,name,age,gender):\n",
    "        super().__init__(name,age,gender)\n",
    "\n",
    "    \n",
    "human=Human(\"aftab\",23,\"male\")\n",
    "print(human.name)  \n",
    "print(human._age)  \n",
    "## print(human.__gender)  \n",
    "\n",
    "        "
   ]
  },
  {
   "cell_type": "markdown",
   "metadata": {},
   "source": [
    "## Abstraction in Python"
   ]
  },
  {
   "cell_type": "code",
   "execution_count": 7,
   "metadata": {},
   "outputs": [
    {
     "name": "stdout",
     "output_type": "stream",
     "text": [
      "car engine started\n",
      "the vehicle is used for driving\n"
     ]
    }
   ],
   "source": [
    "# Abstraction \n",
    "from abc import ABC,abstractmethod\n",
    "class Vehicle(ABC):\n",
    "    def drive(self):\n",
    "        print(\"the vehicle is used for driving\") \n",
    "    \n",
    "    @abstractmethod\n",
    "    def start_engine(self):\n",
    "        pass  \n",
    "\n",
    "class Car(Vehicle):\n",
    "    def start_engine(self):\n",
    "        print(\"car engine started\")\n",
    "\n",
    "    def operate_vehicle(vehicle):\n",
    "         vehicle.start_engine()\n",
    "         vehicle.drive()\n",
    "\n",
    "\n",
    "car=Car()\n",
    "car.operate_vehicle()\n",
    " "
   ]
  },
  {
   "cell_type": "markdown",
   "metadata": {},
   "source": [
    "## Magic Method is Python"
   ]
  },
  {
   "cell_type": "markdown",
   "metadata": {},
   "source": [
    " Magic methods in Python, also known as dunder methods (double underscore methods), are special methods that start and end with double underscores. These methods enable you to define the behavior of objects for built-in operations, such as arithmetic operations, comparisons, and more."
   ]
  },
  {
   "cell_type": "code",
   "execution_count": 6,
   "metadata": {},
   "outputs": [
    {
     "data": {
      "text/plain": [
       "\"\\n__init__': Initializes a new instance of a class.\\n__str__: Returns a string representation of an object.\\n__repr__: Returns an official string representation of an object.\\n__len__: Returns the length of an object.\\n__getitem__: Gets an item from a container.\\n__setitem__: Sets an item in a container.\\n\""
      ]
     },
     "execution_count": 6,
     "metadata": {},
     "output_type": "execute_result"
    }
   ],
   "source": [
    "'''\n",
    "__init__': Initializes a new instance of a class.\n",
    "__str__: Returns a string representation of an object.\n",
    "__repr__: Returns an official string representation of an object.\n",
    "__len__: Returns the length of an object.\n",
    "__getitem__: Gets an item from a container.\n",
    "__setitem__: Sets an item in a container.\n",
    "'''"
   ]
  },
  {
   "cell_type": "code",
   "execution_count": 8,
   "metadata": {},
   "outputs": [
    {
     "name": "stdout",
     "output_type": "stream",
     "text": [
      "<__main__.Person object at 0x000001ED961E7450>\n"
     ]
    }
   ],
   "source": [
    "class Person:\n",
    "    def __init__(self,name,age) :\n",
    "        self.name=name\n",
    "        self.age=age\n",
    "\n",
    "\n",
    "person=Person(\"Krish\",34) \n",
    "print(person)       "
   ]
  },
  {
   "cell_type": "code",
   "execution_count": 11,
   "metadata": {},
   "outputs": [
    {
     "name": "stdout",
     "output_type": "stream",
     "text": [
      "my name is Krish, and my age is 34\n",
      "name :Krish,age :34\n"
     ]
    }
   ],
   "source": [
    "class Person:\n",
    "    def __init__(self,name,age) :\n",
    "        self.name=name\n",
    "        self.age=age\n",
    "    def __str__(self) :\n",
    "        return f\"my name is {self.name}, and my age is {self.age}\"\n",
    "    \n",
    "    def __repr__(self) :\n",
    "        return f\"name :{self.name},age :{self.age}\"\n",
    "\n",
    "person=Person(\"Krish\",34) \n",
    "print(person)\n",
    "print(repr(person))\n",
    "\n"
   ]
  },
  {
   "cell_type": "markdown",
   "metadata": {},
   "source": [
    "## Opaerator overloading in Python"
   ]
  },
  {
   "cell_type": "markdown",
   "metadata": {},
   "source": [
    "Operator overloading allows you to define the behavior of operators (+, -, *, etc.) for custom objects. You achieve this by overriding specific magic methods in your class."
   ]
  },
  {
   "cell_type": "code",
   "execution_count": 12,
   "metadata": {},
   "outputs": [
    {
     "data": {
      "text/plain": [
       "'\\n__add__(self, other): Adds two objects using the + operator.\\n__sub__(self, other): Subtracts two objects using the - operator.\\n__mul__(self, other): Multiplies two objects using the * operator.\\n__truediv__(self, other): Divides two objects using the / operator.\\n__eq__(self, other): Checks if two objects are equal using the == operator.\\n__lt__(self, other): Checks if one object is less than another using the < operator.\\n\\n__gt__\\n'"
      ]
     },
     "execution_count": 12,
     "metadata": {},
     "output_type": "execute_result"
    }
   ],
   "source": [
    "#### Common Operator Overloading Magic Methods\n",
    "'''\n",
    "__add__(self, other): Adds two objects using the + operator.\n",
    "__sub__(self, other): Subtracts two objects using the - operator.\n",
    "__mul__(self, other): Multiplies two objects using the * operator.\n",
    "__truediv__(self, other): Divides two objects using the / operator.\n",
    "__eq__(self, other): Checks if two objects are equal using the == operator.\n",
    "__lt__(self, other): Checks if one object is less than another using the < operator.\n",
    "\n",
    "__gt__\n",
    "'''"
   ]
  },
  {
   "cell_type": "code",
   "execution_count": 16,
   "metadata": {},
   "outputs": [
    {
     "name": "stdout",
     "output_type": "stream",
     "text": [
      "Vector (5,12)\n",
      "Vector (1,-4)\n",
      "Vector (6,32)\n",
      "Vector (1.5,0.5)\n"
     ]
    }
   ],
   "source": [
    "class Vector:\n",
    "    def __init__(self,x,y):\n",
    "        self.x=x\n",
    "        self.y=y\n",
    "\n",
    "    def __add__(self,other):\n",
    "        return Vector(self.x+other.x,self.y+other.y) \n",
    "    \n",
    "    def __sub__(self,other):\n",
    "        return Vector(self.x-other.x,self.y-other.y) \n",
    "    \n",
    "    def __mul__(self,other):\n",
    "        return Vector(self.x*other.x,self.y*other.y) \n",
    "    \n",
    "    def  __truediv__(self,other):\n",
    "        return Vector(self.x/other.x,self.y/other.y) \n",
    "    \n",
    "    def __repr__(self):\n",
    "        return f\"Vector ({self.x},{self.y})\"\n",
    "    \n",
    "v1=Vector(3,4)\n",
    "v2=Vector(2,8)\n",
    "print(v1+v2)\n",
    "print(v1-v2)\n",
    "print(v1*v2)\n",
    "print(v1/v2)\n"
   ]
  },
  {
   "cell_type": "markdown",
   "metadata": {},
   "source": [
    "## Assignment - 2 \n",
    "### create overloading operators for complex numbers"
   ]
  },
  {
   "cell_type": "code",
   "execution_count": 21,
   "metadata": {},
   "outputs": [
    {
     "name": "stdout",
     "output_type": "stream",
     "text": [
      "Complex Number (6+10i)\n",
      "Complex Number (2+2i)\n",
      "Complex Number (8+24i)\n",
      "Complex Number (1.6+0.2i)\n"
     ]
    }
   ],
   "source": [
    "class Complex_Number:\n",
    "    def __init__(self,real,imag):\n",
    "        self.real=real\n",
    "        self.imag=imag\n",
    "\n",
    "    def __add__(self,other):\n",
    "        return Complex_Number(self.real+other.real,self.imag+other.imag) \n",
    "    \n",
    "    def __sub__(self,other):\n",
    "        return Complex_Number(self.real-other.real,self.imag-other.imag) \n",
    "    \n",
    "    def __mul__(self,other):\n",
    "       \n",
    "        ##return Complex_Number(a*c+a*d+b*c-b*d) \n",
    "        return Complex_Number(self.real*other.real,self.imag*other.imag) \n",
    "    \n",
    "    def  __truediv__(self,other):\n",
    "        denominator=other.real**2+other.imag**2\n",
    "        real_part=(self.real*other.real+self.imag*other.imag)/denominator\n",
    "        imag_part=(self.imag*other.real-self.real*other.real)/denominator\n",
    "        return Complex_Number(real_part,imag_part)\n",
    "    def __repr__(self):\n",
    "        return f\"Complex Number ({self.real}+{self.imag}i)\"\n",
    "    \n",
    "c1=Complex_Number(4,6)\n",
    "c2=Complex_Number(2,4)\n",
    "print(c1+c2)\n",
    "print(c1-c2)\n",
    "print(c1*c2)\n",
    "print(c1/c2)"
   ]
  },
  {
   "cell_type": "markdown",
   "metadata": {},
   "source": [
    "## Custom Exception in python (Creating our own Exception)\n",
    "### Raise And Throw Exception"
   ]
  },
  {
   "cell_type": "code",
   "execution_count": 24,
   "metadata": {},
   "outputs": [
    {
     "name": "stdout",
     "output_type": "stream",
     "text": [
      "your age is 124 it should be between 20 and 30,sorry but you are not elligible\n"
     ]
    }
   ],
   "source": [
    "class Error(Exception):\n",
    "    pass\n",
    "\n",
    "class DobException(Error):\n",
    "    pass\n",
    "\n",
    "year=int(input(\"enter your year of DOB\"))\n",
    "age=2024-year\n",
    "\n",
    "try:\n",
    "    if(age>=20 and age<=30):\n",
    "        print(\"you are elligible\")\n",
    "\n",
    "    else:\n",
    "        raise DobException\n",
    "\n",
    "except DobException:\n",
    "    print(f\"your age is {age} it should be between 20 and 30,sorry but you are not elligible\")\n",
    "\n"
   ]
  },
  {
   "cell_type": "code",
   "execution_count": null,
   "metadata": {},
   "outputs": [],
   "source": []
  }
 ],
 "metadata": {
  "kernelspec": {
   "display_name": "base",
   "language": "python",
   "name": "python3"
  },
  "language_info": {
   "codemirror_mode": {
    "name": "ipython",
    "version": 3
   },
   "file_extension": ".py",
   "mimetype": "text/x-python",
   "name": "python",
   "nbconvert_exporter": "python",
   "pygments_lexer": "ipython3",
   "version": "3.11.7"
  }
 },
 "nbformat": 4,
 "nbformat_minor": 2
}
