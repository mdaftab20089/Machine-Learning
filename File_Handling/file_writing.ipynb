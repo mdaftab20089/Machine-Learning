{
 "cells": [
  {
   "cell_type": "code",
   "execution_count": 13,
   "metadata": {},
   "outputs": [
    {
     "name": "stdout",
     "output_type": "stream",
     "text": [
      "hello world\n",
      "this is my first programappent operation taking place\n",
      " appent operation taking place\n",
      " appent operation taking place\n",
      " appent operation taking place\n"
     ]
    }
   ],
   "source": [
    "## Reading a whole file.\n",
    "with open('example.txt','r') as file:\n",
    "    content=file.read()\n",
    "    print(content)"
   ]
  },
  {
   "cell_type": "code",
   "execution_count": 14,
   "metadata": {},
   "outputs": [
    {
     "name": "stdout",
     "output_type": "stream",
     "text": [
      "hello world\n",
      "this is my first programappent operation taking place\n",
      "appent operation taking place\n",
      "appent operation taking place\n",
      "appent operation taking place\n"
     ]
    }
   ],
   "source": [
    "## reading line by line\n",
    "with open('example.txt','r') as file:\n",
    "   for line in file:\n",
    "      print(line.strip())"
   ]
  },
  {
   "cell_type": "code",
   "execution_count": 15,
   "metadata": {},
   "outputs": [],
   "source": [
    "## writing a file with overwriting\n",
    "\n",
    "with open ('example.txt','w') as file:\n",
    "    file.write('hello world\\n')\n",
    "    file.write('this is my first program\\n')\n",
    "    \n"
   ]
  },
  {
   "cell_type": "code",
   "execution_count": 16,
   "metadata": {},
   "outputs": [
    {
     "name": "stdout",
     "output_type": "stream",
     "text": [
      "hello world\n",
      "this is my first program\n"
     ]
    }
   ],
   "source": [
    "with open('example.txt','r') as file:\n",
    "   for line in file:\n",
    "      print(line.strip())"
   ]
  },
  {
   "cell_type": "code",
   "execution_count": 17,
   "metadata": {},
   "outputs": [],
   "source": [
    "## writing into a file with no change in the old content\n",
    "\n",
    "with open ('example.txt','a') as file:\n",
    "    file.write(' appent operation taking place')"
   ]
  },
  {
   "cell_type": "markdown",
   "metadata": {},
   "source": [
    "## Assignment-1:-read a text file and count the no of lines , words and character in that file."
   ]
  },
  {
   "cell_type": "code",
   "execution_count": 18,
   "metadata": {},
   "outputs": [
    {
     "name": "stdout",
     "output_type": "stream",
     "text": [
      "total no of lines is the file is : 3\n",
      "total no of words in the file is :  11\n",
      "total character in the file is : 67\n"
     ]
    }
   ],
   "source": [
    "## assignment solution\n",
    "with open('example.txt','r') as file:\n",
    "    lines=file.readlines()\n",
    "    count=len(lines)\n",
    "    print(\"total no of lines is the file is :\",count)\n",
    "\n",
    "    word_count =sum(len(line.split()) for line in lines)\n",
    "    print(\"total no of words in the file is : \",word_count)\n",
    "\n",
    "    char_count=sum(len(line) for line in lines)\n",
    "    print(\"total character in the file is :\",char_count)\n",
    "\n",
    "    \n",
    "    \n",
    "    \n",
    "\n"
   ]
  },
  {
   "cell_type": "code",
   "execution_count": 19,
   "metadata": {},
   "outputs": [
    {
     "name": "stdout",
     "output_type": "stream",
     "text": [
      "Lines: 3, Words: 11, Characters: 67\n"
     ]
    }
   ],
   "source": [
    "#Read a text file and count the number of lines, words, and characters.\n",
    "# Counting lines, words, and characters in a text file\n",
    "def count_text_file(file_path):\n",
    "    with open(file_path, 'r') as file:\n",
    "        lines = file.readlines()\n",
    "        line_count = len(lines)\n",
    "        word_count = sum(len(line.split()) for line in lines)\n",
    "        char_count = sum(len(line) for line in lines)\n",
    "    return line_count, word_count, char_count\n",
    "\n",
    "file_path = 'example.txt'\n",
    "lines, words, characters = count_text_file(file_path)\n",
    "print(f'Lines: {lines}, Words: {words}, Characters: {characters}')"
   ]
  },
  {
   "cell_type": "code",
   "execution_count": null,
   "metadata": {},
   "outputs": [],
   "source": []
  }
 ],
 "metadata": {
  "kernelspec": {
   "display_name": "base",
   "language": "python",
   "name": "python3"
  },
  "language_info": {
   "codemirror_mode": {
    "name": "ipython",
    "version": 3
   },
   "file_extension": ".py",
   "mimetype": "text/x-python",
   "name": "python",
   "nbconvert_exporter": "python",
   "pygments_lexer": "ipython3",
   "version": "3.11.7"
  }
 },
 "nbformat": 4,
 "nbformat_minor": 2
}
