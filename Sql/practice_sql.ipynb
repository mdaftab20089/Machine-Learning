{
 "cells": [
  {
   "cell_type": "markdown",
   "metadata": {},
   "source": [
    "## importing sql and connecting it to a sqlite database"
   ]
  },
  {
   "cell_type": "code",
   "execution_count": 2,
   "metadata": {},
   "outputs": [
    {
     "data": {
      "text/plain": [
       "<sqlite3.Connection at 0x26b2602b2e0>"
      ]
     },
     "execution_count": 2,
     "metadata": {},
     "output_type": "execute_result"
    }
   ],
   "source": [
    "import sqlite3\n",
    "connection =sqlite3.connect('practice.db')\n",
    "connection"
   ]
  },
  {
   "cell_type": "code",
   "execution_count": 3,
   "metadata": {},
   "outputs": [],
   "source": [
    "cursor=connection.cursor()"
   ]
  },
  {
   "cell_type": "code",
   "execution_count": 4,
   "metadata": {},
   "outputs": [
    {
     "data": {
      "text/plain": [
       "<sqlite3.Cursor at 0x26b26e63c40>"
      ]
     },
     "execution_count": 4,
     "metadata": {},
     "output_type": "execute_result"
    }
   ],
   "source": [
    "cursor.execute('''\n",
    "      create table if not exists Account(\n",
    "               id Integer primary key,\n",
    "               name text not null,\n",
    "               account_no Integer,\n",
    "               balance Integer\n",
    "               \n",
    "               )\n",
    "\n",
    "''')"
   ]
  },
  {
   "cell_type": "code",
   "execution_count": 5,
   "metadata": {},
   "outputs": [],
   "source": [
    "## committing the changes\n",
    "connection.commit()"
   ]
  },
  {
   "cell_type": "code",
   "execution_count": 6,
   "metadata": {},
   "outputs": [
    {
     "data": {
      "text/plain": [
       "<sqlite3.Cursor at 0x26b26e63c40>"
      ]
     },
     "execution_count": 6,
     "metadata": {},
     "output_type": "execute_result"
    }
   ],
   "source": [
    "## inserting the values under the database\n",
    "\n",
    "cursor.execute('''Select * from Account''')"
   ]
  },
  {
   "cell_type": "code",
   "execution_count": 10,
   "metadata": {},
   "outputs": [],
   "source": [
    "cursor.execute('''\n",
    "      Insert Into Account (name, account_no,balance)\n",
    "                  values('aftab',354485,500)\n",
    "                \n",
    "''')\n",
    "cursor.execute('''\n",
    "      Insert Into Account (name, account_no,balance)\n",
    "                  values('sameer',11010,1500)\n",
    "                \n",
    "''')\n",
    "cursor.execute('''\n",
    "      Insert Into Account (name, account_no,balance)\n",
    "                  values('tanweer',854311,2500)\n",
    "                \n",
    "''')\n",
    "connection.commit()"
   ]
  },
  {
   "cell_type": "code",
   "execution_count": 14,
   "metadata": {},
   "outputs": [
    {
     "name": "stdout",
     "output_type": "stream",
     "text": [
      "(1, 'aftab', 354485, 500)\n",
      "(2, 'sameer', 11010, 1500)\n",
      "(3, 'tanweer', 854311, 2500)\n"
     ]
    }
   ],
   "source": [
    "cursor.execute(' Select * from Account ')\n",
    "rows=cursor.fetchall()\n",
    "for row in rows:\n",
    "    print(row)"
   ]
  },
  {
   "cell_type": "code",
   "execution_count": 17,
   "metadata": {},
   "outputs": [
    {
     "data": {
      "text/plain": [
       "<sqlite3.Cursor at 0x26b26e63c40>"
      ]
     },
     "execution_count": 17,
     "metadata": {},
     "output_type": "execute_result"
    }
   ],
   "source": [
    "## updating the data from account\n",
    "cursor.execute('''\n",
    "      UPDATE Account\n",
    "               set balance=3000\n",
    "               where name='aftab'\n",
    "\n",
    "\n",
    "''')\n",
    "cursor.execute('''\n",
    "      UPDATE Account\n",
    "               set balance=5000\n",
    "               where name='sameer'\n",
    "\n",
    "\n",
    "''')"
   ]
  },
  {
   "cell_type": "code",
   "execution_count": 18,
   "metadata": {},
   "outputs": [
    {
     "name": "stdout",
     "output_type": "stream",
     "text": [
      "(1, 'aftab', 354485, 3000)\n",
      "(2, 'sameer', 11010, 5000)\n",
      "(3, 'tanweer', 854311, 2500)\n"
     ]
    }
   ],
   "source": [
    "cursor.execute(' Select * from Account ')\n",
    "rows=cursor.fetchall()\n",
    "for row in rows:\n",
    "    print(row)"
   ]
  },
  {
   "cell_type": "code",
   "execution_count": null,
   "metadata": {},
   "outputs": [],
   "source": []
  }
 ],
 "metadata": {
  "kernelspec": {
   "display_name": "base",
   "language": "python",
   "name": "python3"
  },
  "language_info": {
   "codemirror_mode": {
    "name": "ipython",
    "version": 3
   },
   "file_extension": ".py",
   "mimetype": "text/x-python",
   "name": "python",
   "nbconvert_exporter": "python",
   "pygments_lexer": "ipython3",
   "version": "3.11.7"
  }
 },
 "nbformat": 4,
 "nbformat_minor": 2
}
