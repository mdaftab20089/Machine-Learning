{
 "cells": [
  {
   "cell_type": "markdown",
   "metadata": {},
   "source": [
    "## Logging in Python"
   ]
  },
  {
   "cell_type": "code",
   "execution_count": 1,
   "metadata": {},
   "outputs": [],
   "source": [
    "## configure the basic logging setting\n",
    "import logging\n",
    "logging.basicConfig(level=logging.DEBUG)"
   ]
  },
  {
   "cell_type": "code",
   "execution_count": 2,
   "metadata": {},
   "outputs": [
    {
     "name": "stderr",
     "output_type": "stream",
     "text": [
      "DEBUG:root:this is a debug message\n",
      "INFO:root:this is an info message\n",
      "WARNING:root:this is a warning message\n",
      "ERROR:root:this is an error message\n",
      "CRITICAL:root:this is a critical message\n"
     ]
    }
   ],
   "source": [
    "## log messages with different secerity\n",
    "logging.debug(\"this is a debug message\")\n",
    "logging.info(\"this is an info message\")\n",
    "logging.warning(\"this is a warning message\")\n",
    "logging.error(\"this is an error message\")\n",
    "logging.critical(\"this is a critical message\")"
   ]
  },
  {
   "cell_type": "code",
   "execution_count": 1,
   "metadata": {},
   "outputs": [],
   "source": [
    "\n",
    "## configuring logging\n",
    "import logging\n",
    "\n",
    "logging.basicConfig(\n",
    "    filename='app.log',\n",
    "    filemode='w',\n",
    "    level=logging.DEBUG,\n",
    "    format='%(asctime)s-%(name)s-%(levelname)s-%(message)s',\n",
    "    datefmt='%Y-%m-%d %H:%M:%S'\n",
    "    )\n",
    "\n",
    "## log messages with different severity levels\n",
    "logging.debug(\"This is a debug message\")\n",
    "logging.info(\"This is an info message\")\n",
    "logging.warning(\"This is a warning message\")\n",
    "logging.error(\"This is an error message\")\n",
    "logging.critical(\"This is a critical message\")"
   ]
  },
  {
   "cell_type": "code",
   "execution_count": null,
   "metadata": {},
   "outputs": [],
   "source": []
  }
 ],
 "metadata": {
  "kernelspec": {
   "display_name": "base",
   "language": "python",
   "name": "python3"
  },
  "language_info": {
   "codemirror_mode": {
    "name": "ipython",
    "version": 3
   },
   "file_extension": ".py",
   "mimetype": "text/x-python",
   "name": "python",
   "nbconvert_exporter": "python",
   "pygments_lexer": "ipython3",
   "version": "3.11.7"
  }
 },
 "nbformat": 4,
 "nbformat_minor": 2
}
