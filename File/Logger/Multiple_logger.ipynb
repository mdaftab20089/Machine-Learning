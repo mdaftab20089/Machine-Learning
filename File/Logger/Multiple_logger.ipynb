{
 "cells": [
  {
   "cell_type": "markdown",
   "metadata": {},
   "source": [
    "## Logging with multiple Loggers"
   ]
  },
  {
   "cell_type": "code",
   "execution_count": 1,
   "metadata": {},
   "outputs": [],
   "source": [
    "import logging\n",
    "## create a logger for module 1\n",
    "logger1=logging.getLogger('Module1')\n",
    "logger2=logging.getLogger('Module2')\n",
    "logger1.setLevel(logging.DEBUG)\n",
    "logger2.setLevel(logging.WARNING)\n",
    "\n",
    "## configure logging setting\n",
    "logging.basicConfig(\n",
    "    level=logging.DEBUG,\n",
    "    format='%(asctime)s-%(name)s-%(levelname)s-%(message)s',\n",
    "    datefmt='%Y-%m-%d %H:%M:%S'\n",
    "    )\n"
   ]
  },
  {
   "cell_type": "code",
   "execution_count": 2,
   "metadata": {},
   "outputs": [
    {
     "name": "stderr",
     "output_type": "stream",
     "text": [
      "2024-06-30 15:59:53-Module1-DEBUG-This is a debug message\n",
      "2024-06-30 15:59:53-Module1-INFO-This is an info message\n",
      "2024-06-30 15:59:53-Module2-WARNING-This is a warning message\n",
      "2024-06-30 15:59:53-Module2-ERROR-This is an error message\n"
     ]
    }
   ],
   "source": [
    "## log messages with different loggers\n",
    "logger1.debug(\"This is a debug message\")\n",
    "logger1.info(\"This is an info message\")\n",
    "logger2.warning(\"This is a warning message\")\n",
    "logger2.error(\"This is an error message\")\n"
   ]
  },
  {
   "cell_type": "code",
   "execution_count": null,
   "metadata": {},
   "outputs": [],
   "source": []
  }
 ],
 "metadata": {
  "kernelspec": {
   "display_name": "base",
   "language": "python",
   "name": "python3"
  },
  "language_info": {
   "codemirror_mode": {
    "name": "ipython",
    "version": 3
   },
   "file_extension": ".py",
   "mimetype": "text/x-python",
   "name": "python",
   "nbconvert_exporter": "python",
   "pygments_lexer": "ipython3",
   "version": "3.11.7"
  }
 },
 "nbformat": 4,
 "nbformat_minor": 2
}
