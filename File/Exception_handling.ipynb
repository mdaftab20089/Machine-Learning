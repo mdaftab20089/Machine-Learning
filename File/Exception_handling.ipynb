{
 "cells": [
  {
   "cell_type": "markdown",
   "metadata": {},
   "source": [
    "## >Exception Handling in python"
   ]
  },
  {
   "cell_type": "code",
   "execution_count": 6,
   "metadata": {},
   "outputs": [
    {
     "name": "stdout",
     "output_type": "stream",
     "text": [
      "not divide zero\n"
     ]
    }
   ],
   "source": [
    "try :\n",
    "    res=1/0\n",
    "    print (res)\n",
    "except:\n",
    "    print(\"not divide zero\")"
   ]
  },
  {
   "cell_type": "code",
   "execution_count": 10,
   "metadata": {},
   "outputs": [
    {
     "name": "stdout",
     "output_type": "stream",
     "text": [
      "cannot gives a string or character value\n"
     ]
    }
   ],
   "source": [
    "try:\n",
    "    a=int(input(\"enter a no\"))\n",
    "    res=10/a\n",
    "    print(res)\n",
    "except ZeroDivisionError :\n",
    "    print(\"not divide to zero\")\n",
    "except ValueError:\n",
    "    print(\"cannot gives a string or character value\")\n",
    "except Exception as ex:\n",
    "    print(ex)    \n"
   ]
  },
  {
   "cell_type": "markdown",
   "metadata": {},
   "source": [
    "## >Finally Block"
   ]
  },
  {
   "cell_type": "code",
   "execution_count": 13,
   "metadata": {},
   "outputs": [
    {
     "name": "stdout",
     "output_type": "stream",
     "text": [
      "0.4\n",
      "this will executes always\n"
     ]
    }
   ],
   "source": [
    "## it always executes \n",
    "try:\n",
    "    a=int(input(\"enter a no\"))\n",
    "    res=10/a\n",
    "except ZeroDivisionError :\n",
    "    print(\"not divide to zero\")\n",
    "except ValueError:\n",
    "    print(\"cannot gives a string or character value\")\n",
    "except Exception as ex:\n",
    "    print(ex)  \n",
    "else:  ## only executes when exception not occurs\n",
    "     print(res) \n",
    "finally:\n",
    "    print(\"this will executes always\")\n"
   ]
  },
  {
   "cell_type": "markdown",
   "metadata": {},
   "source": [
    "## >File handling"
   ]
  },
  {
   "cell_type": "code",
   "execution_count": 18,
   "metadata": {},
   "outputs": [
    {
     "name": "stdout",
     "output_type": "stream",
     "text": [
      "name 'b' is not defined\n",
      "file is close\n"
     ]
    }
   ],
   "source": [
    "try:\n",
    "    file=open('example.txt','r')\n",
    "    content=file.read()\n",
    "    a=b\n",
    "    print(content)\n",
    "\n",
    "except FileNotFoundError:\n",
    "    print(\"file does not exist\")   \n",
    "except Exception as ex:\n",
    "    print(ex)  \n",
    "finally:\n",
    "    if 'file' in locals() or not file.closed():\n",
    "        file.close()\n",
    "    print(\"file is close\")       \n"
   ]
  },
  {
   "cell_type": "code",
   "execution_count": null,
   "metadata": {},
   "outputs": [],
   "source": []
  }
 ],
 "metadata": {
  "kernelspec": {
   "display_name": "base",
   "language": "python",
   "name": "python3"
  },
  "language_info": {
   "codemirror_mode": {
    "name": "ipython",
    "version": 3
   },
   "file_extension": ".py",
   "mimetype": "text/x-python",
   "name": "python",
   "nbconvert_exporter": "python",
   "pygments_lexer": "ipython3",
   "version": "3.11.7"
  }
 },
 "nbformat": 4,
 "nbformat_minor": 2
}
