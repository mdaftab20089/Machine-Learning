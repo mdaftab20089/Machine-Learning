{
 "cells": [
  {
   "cell_type": "markdown",
   "metadata": {},
   "source": [
    "## **Anomaly Detection: Concept and Importance**\n",
    "### **What is Anomaly Detection?**\n",
    "Anomaly Detection is the process of identifying **unusual patterns or behaviors** in data that do not conform to expected normal behavior. These anomalies can represent **fraudulent transactions, network intrusions, equipment failures, or rare events** in various domains.\n",
    "\n",
    "### **Why is Anomaly Detection Needed?**\n",
    "1. **Fraud Detection**: Identifying fraudulent transactions in banking and finance.\n",
    "2. **Cybersecurity**: Detecting unauthorized access or intrusions in networks.\n",
    "3. **Healthcare**: Spotting unusual medical conditions or disease outbreaks.\n",
    "4. **Manufacturing**: Detecting faults in production lines before failure.\n",
    "5. **IoT & Sensor Networks**: Identifying abnormal sensor readings in smart systems.\n",
    "\n",
    "---\n",
    "\n",
    "## **Mathematical Intuition Behind Anomaly Detection**\n",
    "Anomalies are typically detected by measuring **deviations** from normal behavior using statistical, probabilistic, or machine learning methods.\n",
    "\n",
    "### **1. Statistical Methods**\n",
    "- **Z-Score (Standard Score Method)**  \n",
    "  Assumes data follows a normal distribution and detects outliers based on standard deviation.\n",
    "\n",
    "  \\[\n",
    "  Z = \\frac{x - \\mu}{\\sigma}\n",
    "  \\]\n",
    "  - \\( x \\) is the observed value.\n",
    "  - \\( \\mu \\) is the mean of the dataset.\n",
    "  - \\( \\sigma \\) is the standard deviation.\n",
    "\n",
    "  If \\( |Z| > 3 \\), the point is considered an anomaly.\n",
    "\n",
    "- **Interquartile Range (IQR) Method**\n",
    "  - Defines anomalies as data points that fall outside:\n",
    "    \\[\n",
    "    \\text{Lower Bound} = Q1 - 1.5 \\times IQR\n",
    "    \\]\n",
    "    \\[\n",
    "    \\text{Upper Bound} = Q3 + 1.5 \\times IQR\n",
    "    \\]\n",
    "  - Where **IQR (Interquartile Range) = Q3 - Q1**.\n",
    "\n",
    "### **2. Probabilistic Models**\n",
    "- **Gaussian Mixture Models (GMMs)**:  \n",
    "  - Models data as a mixture of multiple Gaussian distributions.\n",
    "  - Anomalies have very low probability under the learned distribution.\n",
    "\n",
    "  \\[\n",
    "  P(x) = \\sum_{k=1}^{K} \\pi_k \\cdot \\mathcal{N}(x | \\mu_k, \\Sigma_k)\n",
    "  \\]\n",
    "\n",
    "  - If \\( P(x) \\) is very small, \\( x \\) is an anomaly.\n",
    "\n",
    "### **3. Distance-Based Methods**\n",
    "- **K-Nearest Neighbors (KNN)**:  \n",
    "  - Compute the average distance of a point from its \\( k \\)-nearest neighbors.\n",
    "  - If the distance is significantly larger than others, it is considered an anomaly.\n",
    "\n",
    "  \\[\n",
    "  D(i) = \\frac{1}{k} \\sum_{j \\in KNN(i)} d(i, j)\n",
    "  \\]\n",
    "\n",
    "### **4. Machine Learning Approaches**\n",
    "- **Isolation Forest**:\n",
    "  - Randomly partitions data using decision trees.\n",
    "  - Anomalies are isolated faster since they require fewer splits.\n",
    "\n",
    "- **Autoencoders (Deep Learning)**:\n",
    "  - Train a neural network to reconstruct normal data.\n",
    "  - Reconstruction error is high for anomalies.\n",
    "\n",
    "  \\[\n",
    "  \\text{Reconstruction Error} = || X - X' ||^2\n",
    "  \\]\n",
    "\n",
    "  - If the error exceeds a threshold, it is classified as an anomaly.\n",
    "\n",
    "---\n",
    "\n",
    "### **Key Takeaways**\n",
    "- **Anomalies deviate from normal patterns** and can be detected using statistical, probabilistic, or machine learning models.\n",
    "- **Choice of method depends on the type of data**: structured (tabular), sequential (time series), or unstructured (images, text).\n",
    "- **Setting thresholds is crucial**: Too strict → many false positives; Too loose → missed anomalies.\n",
    "\n",
    "Would you like a Python implementation of an anomaly detection method? 🚀"
   ]
  },
  {
   "cell_type": "code",
   "execution_count": null,
   "metadata": {},
   "outputs": [],
   "source": []
  },
  {
   "cell_type": "markdown",
   "metadata": {},
   "source": [
    "Isolation Forest Algorithm ek machine learning technique hai jo anomalies ya outliers ko detect karne ke liye use hoti hai.\n",
    "\n",
    "Yeh algorithm \"isolate\" karne ke liye observations ka istemal karti hai. Iska process kuch is tarah hai:\n",
    "\n",
    "1. **Feature Selection**: Pehle, yeh algorithm ek feature (ya column) ko randomly select karti hai.\n",
    "2. **Splitting Value**: Phir, us selected feature ke maximum aur minimum values ke beech mein ek random split value chuni jati hai.\n",
    "\n",
    "Yeh process recursive partitioning ke jaisa hota hai aur isko tree structure mein represent kiya ja sakta hai. Kisi sample ko isolate karne ke liye jo splits chahiye hote hain, unka count us tree ke root node se us sample ke terminating node tak ke path length ke barabar hota hai.\n",
    "\n",
    "3. **Path Length**: Agar kisi sample ke liye yeh path length chhoti hai, toh iska matlab yeh hai ki wo sample anomaly hai. Isliye, jab ek forest (bohot saare random trees) banate hain aur un trees ke average path lengths ko dekhte hain, toh agar kisi sample ka path length zyada chhota hai, toh wo sample anomaly hone ki sambhavna rakhta hai.\n",
    "\n",
    "Essentially, agar random partitioning kisi sample ke liye noticeably shorter paths produce karti hai, toh yeh indicate karta hai ki wo sample likely anomalous hai. \n",
    "\n",
    "Yeh algorithm outliers ko efficiently detect karne ka ek effective tareeqa hai."
   ]
  },
  {
   "cell_type": "code",
   "execution_count": 1,
   "metadata": {},
   "outputs": [],
   "source": [
    "import pandas as pd\n",
    "import numpy as np\n",
    "import matplotlib.pyplot as plt\n",
    "import seaborn as sns\n",
    "import plotly.express as px\n",
    "import warnings\n",
    "\n",
    "warnings.filterwarnings(\"ignore\")\n",
    "\n",
    "%matplotlib inline"
   ]
  },
  {
   "cell_type": "code",
   "execution_count": 2,
   "metadata": {},
   "outputs": [],
   "source": [
    "df=pd.read_csv('healthcare.csv')"
   ]
  },
  {
   "cell_type": "code",
   "execution_count": 3,
   "metadata": {},
   "outputs": [
    {
     "data": {
      "text/html": [
       "<div>\n",
       "<style scoped>\n",
       "    .dataframe tbody tr th:only-of-type {\n",
       "        vertical-align: middle;\n",
       "    }\n",
       "\n",
       "    .dataframe tbody tr th {\n",
       "        vertical-align: top;\n",
       "    }\n",
       "\n",
       "    .dataframe thead th {\n",
       "        text-align: right;\n",
       "    }\n",
       "</style>\n",
       "<table border=\"1\" class=\"dataframe\">\n",
       "  <thead>\n",
       "    <tr style=\"text-align: right;\">\n",
       "      <th></th>\n",
       "      <th>0</th>\n",
       "      <th>1</th>\n",
       "    </tr>\n",
       "  </thead>\n",
       "  <tbody>\n",
       "    <tr>\n",
       "      <th>0</th>\n",
       "      <td>1.616671</td>\n",
       "      <td>1.944522</td>\n",
       "    </tr>\n",
       "    <tr>\n",
       "      <th>1</th>\n",
       "      <td>1.256461</td>\n",
       "      <td>1.609444</td>\n",
       "    </tr>\n",
       "    <tr>\n",
       "      <th>2</th>\n",
       "      <td>-2.343919</td>\n",
       "      <td>4.392961</td>\n",
       "    </tr>\n",
       "    <tr>\n",
       "      <th>3</th>\n",
       "      <td>1.195393</td>\n",
       "      <td>2.794485</td>\n",
       "    </tr>\n",
       "    <tr>\n",
       "      <th>4</th>\n",
       "      <td>-3.329586</td>\n",
       "      <td>5.303160</td>\n",
       "    </tr>\n",
       "  </tbody>\n",
       "</table>\n",
       "</div>"
      ],
      "text/plain": [
       "          0         1\n",
       "0  1.616671  1.944522\n",
       "1  1.256461  1.609444\n",
       "2 -2.343919  4.392961\n",
       "3  1.195393  2.794485\n",
       "4 -3.329586  5.303160"
      ]
     },
     "execution_count": 3,
     "metadata": {},
     "output_type": "execute_result"
    }
   ],
   "source": [
    "df.head()"
   ]
  },
  {
   "cell_type": "code",
   "execution_count": 4,
   "metadata": {},
   "outputs": [
    {
     "data": {
      "text/plain": [
       "Index(['0', '1'], dtype='object')"
      ]
     },
     "execution_count": 4,
     "metadata": {},
     "output_type": "execute_result"
    }
   ],
   "source": [
    "df.columns"
   ]
  },
  {
   "cell_type": "code",
   "execution_count": 5,
   "metadata": {},
   "outputs": [
    {
     "name": "stdout",
     "output_type": "stream",
     "text": [
      "<class 'pandas.core.frame.DataFrame'>\n",
      "RangeIndex: 250 entries, 0 to 249\n",
      "Data columns (total 2 columns):\n",
      " #   Column  Non-Null Count  Dtype  \n",
      "---  ------  --------------  -----  \n",
      " 0   0       250 non-null    float64\n",
      " 1   1       250 non-null    float64\n",
      "dtypes: float64(2)\n",
      "memory usage: 4.0 KB\n"
     ]
    }
   ],
   "source": [
    "df.info()"
   ]
  },
  {
   "cell_type": "code",
   "execution_count": 6,
   "metadata": {},
   "outputs": [
    {
     "data": {
      "text/plain": [
       "<matplotlib.collections.PathCollection at 0x1ff85f28890>"
      ]
     },
     "execution_count": 6,
     "metadata": {},
     "output_type": "execute_result"
    },
    {
     "data": {
      "image/png": "[encoded data removed]",
      "text/plain": [
       "<Figure size 640x480 with 1 Axes>"
      ]
     },
     "metadata": {},
     "output_type": "display_data"
    }
   ],
   "source": [
    "import matplotlib.pyplot as plt\n",
    "plt.scatter(df.iloc[:,0], df.iloc[:,1])"
   ]
  },
  {
   "cell_type": "code",
   "execution_count": 7,
   "metadata": {},
   "outputs": [],
   "source": [
    "from sklearn.ensemble import IsolationForest"
   ]
  },
  {
   "cell_type": "code",
   "execution_count": 8,
   "metadata": {},
   "outputs": [],
   "source": [
    "clf = IsolationForest(contamination=0.2)\n",
    "clf.fit(df)\n",
    "predictions = clf.predict(df)"
   ]
  },
  {
   "cell_type": "code",
   "execution_count": 9,
   "metadata": {},
   "outputs": [
    {
     "data": {
      "text/plain": [
       "array([ 1,  1,  1,  1, -1,  1,  1,  1,  1,  1,  1,  1,  1,  1,  1,  1,  1,\n",
       "        1,  1,  1, -1,  1,  1,  1, -1,  1,  1,  1,  1,  1,  1,  1,  1,  1,\n",
       "        1,  1,  1,  1,  1,  1, -1,  1,  1,  1,  1, -1,  1,  1, -1,  1,  1,\n",
       "        1,  1, -1,  1, -1,  1,  1,  1,  1, -1, -1, -1, -1,  1,  1,  1, -1,\n",
       "        1,  1,  1,  1, -1,  1, -1,  1,  1,  1, -1,  1,  1,  1,  1, -1,  1,\n",
       "       -1,  1, -1,  1, -1,  1,  1, -1,  1,  1,  1,  1, -1,  1,  1,  1,  1,\n",
       "        1,  1, -1,  1,  1,  1, -1,  1,  1,  1,  1,  1, -1,  1,  1,  1,  1,\n",
       "       -1,  1,  1,  1,  1,  1,  1, -1,  1,  1,  1, -1,  1, -1, -1,  1,  1,\n",
       "        1,  1,  1,  1,  1, -1,  1,  1,  1,  1,  1,  1,  1,  1,  1, -1,  1,\n",
       "        1,  1,  1,  1,  1,  1,  1, -1,  1,  1,  1,  1,  1,  1, -1,  1,  1,\n",
       "        1,  1,  1,  1,  1,  1,  1, -1,  1, -1,  1,  1, -1,  1,  1,  1,  1,\n",
       "       -1,  1,  1,  1,  1,  1,  1,  1,  1,  1, -1,  1, -1,  1,  1,  1,  1,\n",
       "       -1,  1,  1,  1,  1, -1,  1,  1, -1,  1,  1,  1,  1, -1,  1,  1, -1,\n",
       "       -1,  1,  1,  1,  1,  1, -1,  1,  1,  1,  1,  1,  1,  1,  1,  1,  1,\n",
       "        1,  1,  1,  1, -1,  1,  1,  1,  1, -1, -1,  1])"
      ]
     },
     "execution_count": 9,
     "metadata": {},
     "output_type": "execute_result"
    }
   ],
   "source": [
    "predictions"
   ]
  },
  {
   "cell_type": "code",
   "execution_count": 10,
   "metadata": {},
   "outputs": [
    {
     "data": {
      "text/plain": [
       "(array([  4,  20,  24,  40,  45,  48,  53,  55,  60,  61,  62,  63,  67,\n",
       "         72,  74,  78,  83,  85,  87,  89,  92,  97, 104, 108, 114, 119,\n",
       "        126, 130, 132, 133, 141, 151, 160, 167, 177, 179, 182, 187, 197,\n",
       "        199, 204, 209, 212, 217, 220, 221, 227, 242, 247, 248], dtype=int64),)"
      ]
     },
     "execution_count": 10,
     "metadata": {},
     "output_type": "execute_result"
    }
   ],
   "source": [
    "import numpy as np\n",
    "index = np.where(predictions < 0)\n",
    "index"
   ]
  },
  {
   "cell_type": "code",
   "execution_count": 11,
   "metadata": {},
   "outputs": [],
   "source": [
    "x=df.values"
   ]
  },
  {
   "cell_type": "code",
   "execution_count": 12,
   "metadata": {},
   "outputs": [
    {
     "data": {
      "text/plain": [
       "<matplotlib.collections.PathCollection at 0x1ff88107d10>"
      ]
     },
     "execution_count": 12,
     "metadata": {},
     "output_type": "execute_result"
    },
    {
     "data": {
      "image/png": "[encoded data removed]",
      "text/plain": [
       "<Figure size 640x480 with 1 Axes>"
      ]
     },
     "metadata": {},
     "output_type": "display_data"
    }
   ],
   "source": [
    "index = np.where(predictions < 0)\n",
    "plt.scatter(df.iloc[:,0], df.iloc[:,1])\n",
    "plt.scatter(x[index,0], x[index,1], edgecolors=\"r\")"
   ]
  },
  {
   "cell_type": "code",
   "execution_count": null,
   "metadata": {},
   "outputs": [],
   "source": []
  }
 ],
 "metadata": {
  "kernelspec": {
   "display_name": "base",
   "language": "python",
   "name": "python3"
  },
  "language_info": {
   "codemirror_mode": {
    "name": "ipython",
    "version": 3
   },
   "file_extension": ".py",
   "mimetype": "text/x-python",
   "name": "python",
   "nbconvert_exporter": "python",
   "pygments_lexer": "ipython3",
   "version": "3.11.7"
  }
 },
 "nbformat": 4,
 "nbformat_minor": 2
}
