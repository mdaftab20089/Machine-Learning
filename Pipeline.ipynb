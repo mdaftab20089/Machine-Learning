{
 "cells": [
  {
   "cell_type": "markdown",
   "metadata": {},
   "source": [
    "### In multiple regression, a pipeline refers to a sequential process of transforming data and applying a machine learning model in a structured way. It is a core concept in modern machine learning workflows, especially when you need to perform a series of operations on your data, like preprocessing and fitting a model, in an organized manner."
   ]
  },
  {
   "cell_type": "markdown",
   "metadata": {},
   "source": [
    "#### Why Use a Pipeline? \n",
    "#### Streamlines Workflows: Automates and connects steps like data transformation, scaling, encoding, and modeling.\n",
    "#### Prevents Data Leakage: Ensures preprocessing steps (e.g., scaling or encoding) are only applied to the training data during training, and the exact same transformations are applied to test data during testing.\n",
    "#### Improves Code Maintenance: Keeps the code modular, clean, and easy to understand."
   ]
  },
  {
   "cell_type": "code",
   "execution_count": 1,
   "metadata": {},
   "outputs": [
    {
     "name": "stdout",
     "output_type": "stream",
     "text": [
      "Predictions: [249.37840785]\n"
     ]
    }
   ],
   "source": [
    "from sklearn.pipeline import Pipeline\n",
    "from sklearn.preprocessing import StandardScaler, OneHotEncoder\n",
    "from sklearn.compose import ColumnTransformer\n",
    "from sklearn.linear_model import LinearRegression\n",
    "from sklearn.model_selection import train_test_split\n",
    "import pandas as pd\n",
    "\n",
    "# Sample dataset\n",
    "data = pd.DataFrame({\n",
    "    'age': [25, 30, 35, 40, 28],\n",
    "    'salary': [50000, 60000, 70000, 80000, 52000],\n",
    "    'city': ['A', 'B', 'A', 'C', 'B'],\n",
    "    'target': [200, 250, 300, 350, 220]\n",
    "})\n",
    "\n",
    "# Features and target\n",
    "X = data[['age', 'salary', 'city']]\n",
    "y = data['target']\n",
    "\n",
    "# Train-test split\n",
    "X_train, X_test, y_train, y_test = train_test_split(X, y, test_size=0.2, random_state=42)\n",
    "\n",
    "# Preprocessing steps\n",
    "numerical_features = ['age', 'salary']\n",
    "categorical_features = ['city']\n",
    "\n",
    "preprocessor = ColumnTransformer(\n",
    "    transformers=[\n",
    "        ('num', StandardScaler(), numerical_features),  # Scale numerical features\n",
    "        ('cat', OneHotEncoder(), categorical_features)  # Encode categorical features\n",
    "    ])\n",
    "\n",
    "# Pipeline definition\n",
    "pipeline = Pipeline(steps=[\n",
    "    ('preprocessor', preprocessor),  # Preprocessing step\n",
    "    ('regressor', LinearRegression())  # Regression model\n",
    "])\n",
    "\n",
    "# Fit the pipeline\n",
    "pipeline.fit(X_train, y_train)\n",
    "\n",
    "# Predict\n",
    "y_pred = pipeline.predict(X_test)\n",
    "\n",
    "# Print predictions\n",
    "print(\"Predictions:\", y_pred)\n"
   ]
  },
  {
   "cell_type": "code",
   "execution_count": null,
   "metadata": {},
   "outputs": [],
   "source": []
  }
 ],
 "metadata": {
  "kernelspec": {
   "display_name": "base",
   "language": "python",
   "name": "python3"
  },
  "language_info": {
   "codemirror_mode": {
    "name": "ipython",
    "version": 3
   },
   "file_extension": ".py",
   "mimetype": "text/x-python",
   "name": "python",
   "nbconvert_exporter": "python",
   "pygments_lexer": "ipython3",
   "version": "3.11.7"
  }
 },
 "nbformat": 4,
 "nbformat_minor": 2
}
